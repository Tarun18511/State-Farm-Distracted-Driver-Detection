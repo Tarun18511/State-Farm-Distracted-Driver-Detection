{
 "cells": [
  {
   "cell_type": "code",
   "execution_count": 1,
   "id": "9f2c1f6d",
   "metadata": {
    "_cell_guid": "b1076dfc-b9ad-4769-8c92-a6c4dae69d19",
    "_uuid": "8f2839f25d086af736a60e9eeb907d3b93b6e0e5",
    "execution": {
     "iopub.execute_input": "2022-03-16T19:32:08.928265Z",
     "iopub.status.busy": "2022-03-16T19:32:08.925231Z",
     "iopub.status.idle": "2022-03-16T19:32:08.939156Z",
     "shell.execute_reply": "2022-03-16T19:32:08.938076Z",
     "shell.execute_reply.started": "2022-03-16T19:06:37.241608Z"
    },
    "papermill": {
     "duration": 0.080902,
     "end_time": "2022-03-16T19:32:08.939404",
     "exception": false,
     "start_time": "2022-03-16T19:32:08.858502",
     "status": "completed"
    },
    "tags": []
   },
   "outputs": [],
   "source": [
    "# # This Python 3 environment comes with many helpful analytics libraries installed\n",
    "# # It is defined by the kaggle/python Docker image: https://github.com/kaggle/docker-python\n",
    "# # For example, here's several helpful packages to load\n",
    "\n",
    "# import numpy as np # linear algebra\n",
    "# import pandas as pd # data processing, CSV file I/O (e.g. pd.read_csv)\n",
    "\n",
    "# # Input data files are available in the read-only \"../input/\" directory\n",
    "# # For example, running this (by clicking run or pressing Shift+Enter) will list all files under the input directory\n",
    "\n",
    "# import os\n",
    "# for dirname, _, filenames in os.walk('/kaggle/input'):\n",
    "#     for filename in filenames:\n",
    "#         print(os.path.join(dirname, filename))\n",
    "\n",
    "# # You can write up to 20GB to the current directory (/kaggle/working/) that gets preserved as output when you create a version using \"Save & Run All\" \n",
    "# # You can also write temporary files to /kaggle/temp/, but they won't be saved outside of the current session"
   ]
  },
  {
   "cell_type": "code",
   "execution_count": 2,
   "id": "50c8558b",
   "metadata": {
    "execution": {
     "iopub.execute_input": "2022-03-16T19:32:09.015899Z",
     "iopub.status.busy": "2022-03-16T19:32:09.013838Z",
     "iopub.status.idle": "2022-03-16T19:32:09.016862Z",
     "shell.execute_reply": "2022-03-16T19:32:09.017372Z",
     "shell.execute_reply.started": "2022-03-16T19:06:37.249157Z"
    },
    "papermill": {
     "duration": 0.043591,
     "end_time": "2022-03-16T19:32:09.017598",
     "exception": false,
     "start_time": "2022-03-16T19:32:08.974007",
     "status": "completed"
    },
    "tags": []
   },
   "outputs": [],
   "source": [
    "# !pip install tensorflow-gpu"
   ]
  },
  {
   "cell_type": "code",
   "execution_count": 3,
   "id": "3811b417",
   "metadata": {
    "execution": {
     "iopub.execute_input": "2022-03-16T19:32:09.086376Z",
     "iopub.status.busy": "2022-03-16T19:32:09.085386Z",
     "iopub.status.idle": "2022-03-16T19:32:17.068911Z",
     "shell.execute_reply": "2022-03-16T19:32:17.069341Z",
     "shell.execute_reply.started": "2022-03-16T19:06:37.259218Z"
    },
    "papermill": {
     "duration": 8.024972,
     "end_time": "2022-03-16T19:32:17.069501",
     "exception": false,
     "start_time": "2022-03-16T19:32:09.044529",
     "status": "completed"
    },
    "tags": []
   },
   "outputs": [],
   "source": [
    "import cudf as cd\n",
    "import cupy as cp\n",
    "import tensorflow as tf\n",
    "from tensorflow import keras as k\n",
    "import cuml\n",
    "import numpy as np\n",
    "import pandas as pd"
   ]
  },
  {
   "cell_type": "code",
   "execution_count": 4,
   "id": "5b2423b5",
   "metadata": {
    "execution": {
     "iopub.execute_input": "2022-03-16T19:32:17.124467Z",
     "iopub.status.busy": "2022-03-16T19:32:17.123910Z",
     "iopub.status.idle": "2022-03-16T19:32:22.515348Z",
     "shell.execute_reply": "2022-03-16T19:32:22.515817Z",
     "shell.execute_reply.started": "2022-03-16T19:06:45.707038Z"
    },
    "papermill": {
     "duration": 5.421201,
     "end_time": "2022-03-16T19:32:22.515992",
     "exception": false,
     "start_time": "2022-03-16T19:32:17.094791",
     "status": "completed"
    },
    "tags": []
   },
   "outputs": [],
   "source": [
    "train_img_names = cd.read_csv('../input/state-farm-distracted-driver-detection/driver_imgs_list.csv')"
   ]
  },
  {
   "cell_type": "code",
   "execution_count": 5,
   "id": "f62b531f",
   "metadata": {
    "execution": {
     "iopub.execute_input": "2022-03-16T19:32:22.599389Z",
     "iopub.status.busy": "2022-03-16T19:32:22.598472Z",
     "iopub.status.idle": "2022-03-16T19:32:22.629121Z",
     "shell.execute_reply": "2022-03-16T19:32:22.629532Z",
     "shell.execute_reply.started": "2022-03-16T19:06:50.863331Z"
    },
    "papermill": {
     "duration": 0.077211,
     "end_time": "2022-03-16T19:32:22.629681",
     "exception": false,
     "start_time": "2022-03-16T19:32:22.552470",
     "status": "completed"
    },
    "tags": []
   },
   "outputs": [
    {
     "data": {
      "text/html": [
       "<div>\n",
       "<style scoped>\n",
       "    .dataframe tbody tr th:only-of-type {\n",
       "        vertical-align: middle;\n",
       "    }\n",
       "\n",
       "    .dataframe tbody tr th {\n",
       "        vertical-align: top;\n",
       "    }\n",
       "\n",
       "    .dataframe thead th {\n",
       "        text-align: right;\n",
       "    }\n",
       "</style>\n",
       "<table border=\"1\" class=\"dataframe\">\n",
       "  <thead>\n",
       "    <tr style=\"text-align: right;\">\n",
       "      <th></th>\n",
       "      <th>subject</th>\n",
       "      <th>classname</th>\n",
       "      <th>img</th>\n",
       "    </tr>\n",
       "  </thead>\n",
       "  <tbody>\n",
       "    <tr>\n",
       "      <th>0</th>\n",
       "      <td>p002</td>\n",
       "      <td>c0</td>\n",
       "      <td>img_44733.jpg</td>\n",
       "    </tr>\n",
       "    <tr>\n",
       "      <th>1</th>\n",
       "      <td>p002</td>\n",
       "      <td>c0</td>\n",
       "      <td>img_72999.jpg</td>\n",
       "    </tr>\n",
       "    <tr>\n",
       "      <th>2</th>\n",
       "      <td>p002</td>\n",
       "      <td>c0</td>\n",
       "      <td>img_25094.jpg</td>\n",
       "    </tr>\n",
       "    <tr>\n",
       "      <th>3</th>\n",
       "      <td>p002</td>\n",
       "      <td>c0</td>\n",
       "      <td>img_69092.jpg</td>\n",
       "    </tr>\n",
       "    <tr>\n",
       "      <th>4</th>\n",
       "      <td>p002</td>\n",
       "      <td>c0</td>\n",
       "      <td>img_92629.jpg</td>\n",
       "    </tr>\n",
       "  </tbody>\n",
       "</table>\n",
       "</div>"
      ],
      "text/plain": [
       "  subject classname            img\n",
       "0    p002        c0  img_44733.jpg\n",
       "1    p002        c0  img_72999.jpg\n",
       "2    p002        c0  img_25094.jpg\n",
       "3    p002        c0  img_69092.jpg\n",
       "4    p002        c0  img_92629.jpg"
      ]
     },
     "execution_count": 5,
     "metadata": {},
     "output_type": "execute_result"
    }
   ],
   "source": [
    "train_img_names.head()"
   ]
  },
  {
   "cell_type": "code",
   "execution_count": 6,
   "id": "5bf902c7",
   "metadata": {
    "execution": {
     "iopub.execute_input": "2022-03-16T19:32:22.688316Z",
     "iopub.status.busy": "2022-03-16T19:32:22.687561Z",
     "iopub.status.idle": "2022-03-16T19:32:22.690257Z",
     "shell.execute_reply": "2022-03-16T19:32:22.690835Z",
     "shell.execute_reply.started": "2022-03-16T19:06:50.904922Z"
    },
    "papermill": {
     "duration": 0.034155,
     "end_time": "2022-03-16T19:32:22.690982",
     "exception": false,
     "start_time": "2022-03-16T19:32:22.656827",
     "status": "completed"
    },
    "tags": []
   },
   "outputs": [
    {
     "data": {
      "text/plain": [
       "(22424, 3)"
      ]
     },
     "execution_count": 6,
     "metadata": {},
     "output_type": "execute_result"
    }
   ],
   "source": [
    "train_img_names.shape"
   ]
  },
  {
   "cell_type": "code",
   "execution_count": 7,
   "id": "b9fd69d0",
   "metadata": {
    "execution": {
     "iopub.execute_input": "2022-03-16T19:32:22.750395Z",
     "iopub.status.busy": "2022-03-16T19:32:22.748181Z",
     "iopub.status.idle": "2022-03-16T19:32:22.766102Z",
     "shell.execute_reply": "2022-03-16T19:32:22.765692Z",
     "shell.execute_reply.started": "2022-03-16T19:06:50.913706Z"
    },
    "papermill": {
     "duration": 0.048543,
     "end_time": "2022-03-16T19:32:22.766214",
     "exception": false,
     "start_time": "2022-03-16T19:32:22.717671",
     "status": "completed"
    },
    "tags": []
   },
   "outputs": [
    {
     "name": "stdout",
     "output_type": "stream",
     "text": [
      "<class 'cudf.core.dataframe.DataFrame'>\n",
      "RangeIndex: 22424 entries, 0 to 22423\n",
      "Data columns (total 3 columns):\n",
      " #   Column     Non-Null Count  Dtype\n",
      "---  ------     --------------  -----\n",
      " 0   subject    22424 non-null  object\n",
      " 1   classname  22424 non-null  object\n",
      " 2   img        22424 non-null  object\n",
      "dtypes: object(3)\n",
      "memory usage: 676.9+ KB\n"
     ]
    }
   ],
   "source": [
    "train_img_names.info()"
   ]
  },
  {
   "cell_type": "code",
   "execution_count": 8,
   "id": "268440c6",
   "metadata": {
    "execution": {
     "iopub.execute_input": "2022-03-16T19:32:22.826817Z",
     "iopub.status.busy": "2022-03-16T19:32:22.824272Z",
     "iopub.status.idle": "2022-03-16T19:32:22.843502Z",
     "shell.execute_reply": "2022-03-16T19:32:22.843941Z",
     "shell.execute_reply.started": "2022-03-16T19:06:50.937894Z"
    },
    "papermill": {
     "duration": 0.050001,
     "end_time": "2022-03-16T19:32:22.844083",
     "exception": false,
     "start_time": "2022-03-16T19:32:22.794082",
     "status": "completed"
    },
    "tags": []
   },
   "outputs": [
    {
     "data": {
      "text/plain": [
       "0     p002\n",
       "1     p012\n",
       "2     p014\n",
       "3     p015\n",
       "4     p016\n",
       "5     p021\n",
       "6     p022\n",
       "7     p024\n",
       "8     p026\n",
       "9     p035\n",
       "10    p039\n",
       "11    p041\n",
       "12    p042\n",
       "13    p045\n",
       "14    p047\n",
       "15    p049\n",
       "16    p050\n",
       "17    p051\n",
       "18    p052\n",
       "19    p056\n",
       "20    p061\n",
       "21    p064\n",
       "22    p066\n",
       "23    p072\n",
       "24    p075\n",
       "25    p081\n",
       "Name: subject, dtype: object"
      ]
     },
     "execution_count": 8,
     "metadata": {},
     "output_type": "execute_result"
    }
   ],
   "source": [
    "train_img_names['subject'].unique()"
   ]
  },
  {
   "cell_type": "code",
   "execution_count": 9,
   "id": "80275302",
   "metadata": {
    "execution": {
     "iopub.execute_input": "2022-03-16T19:32:22.903766Z",
     "iopub.status.busy": "2022-03-16T19:32:22.903069Z",
     "iopub.status.idle": "2022-03-16T19:32:22.932237Z",
     "shell.execute_reply": "2022-03-16T19:32:22.931808Z",
     "shell.execute_reply.started": "2022-03-16T19:06:50.958914Z"
    },
    "papermill": {
     "duration": 0.061259,
     "end_time": "2022-03-16T19:32:22.932344",
     "exception": false,
     "start_time": "2022-03-16T19:32:22.871085",
     "status": "completed"
    },
    "tags": []
   },
   "outputs": [
    {
     "data": {
      "text/plain": [
       "c0    2489\n",
       "c3    2346\n",
       "c4    2326\n",
       "c6    2325\n",
       "c2    2317\n",
       "c5    2312\n",
       "c1    2267\n",
       "c9    2129\n",
       "c7    2002\n",
       "c8    1911\n",
       "Name: classname, dtype: int32"
      ]
     },
     "execution_count": 9,
     "metadata": {},
     "output_type": "execute_result"
    }
   ],
   "source": [
    "train_img_names['classname'].value_counts()"
   ]
  },
  {
   "cell_type": "code",
   "execution_count": 10,
   "id": "8072e247",
   "metadata": {
    "execution": {
     "iopub.execute_input": "2022-03-16T19:32:22.989853Z",
     "iopub.status.busy": "2022-03-16T19:32:22.989094Z",
     "iopub.status.idle": "2022-03-16T19:32:23.574419Z",
     "shell.execute_reply": "2022-03-16T19:32:23.574877Z",
     "shell.execute_reply.started": "2022-03-16T19:06:50.999094Z"
    },
    "papermill": {
     "duration": 0.615327,
     "end_time": "2022-03-16T19:32:23.575024",
     "exception": false,
     "start_time": "2022-03-16T19:32:22.959697",
     "status": "completed"
    },
    "tags": []
   },
   "outputs": [
    {
     "data": {
      "image/png": "[encoded data removed]",
      "text/plain": [
       "<PIL.Image.Image image mode=RGB size=128x128 at 0x7F64A4579C90>"
      ]
     },
     "execution_count": 10,
     "metadata": {},
     "output_type": "execute_result"
    }
   ],
   "source": [
    "from keras.preprocessing import image \n",
    "img = image.load_img('../input/state-farm-distracted-driver-detection/imgs/train/c0/img_100026.jpg', \n",
    "        target_size = (128, 128))\n",
    "img"
   ]
  },
  {
   "cell_type": "code",
   "execution_count": 11,
   "id": "72ce9a7e",
   "metadata": {
    "execution": {
     "iopub.execute_input": "2022-03-16T19:32:23.641964Z",
     "iopub.status.busy": "2022-03-16T19:32:23.641309Z",
     "iopub.status.idle": "2022-03-16T19:32:23.644328Z",
     "shell.execute_reply": "2022-03-16T19:32:23.644819Z",
     "shell.execute_reply.started": "2022-03-16T19:06:51.202450Z"
    },
    "papermill": {
     "duration": 0.03934,
     "end_time": "2022-03-16T19:32:23.644970",
     "exception": false,
     "start_time": "2022-03-16T19:32:23.605630",
     "status": "completed"
    },
    "tags": []
   },
   "outputs": [
    {
     "data": {
      "text/plain": [
       "(128, 128, 3)"
      ]
     },
     "execution_count": 11,
     "metadata": {},
     "output_type": "execute_result"
    }
   ],
   "source": [
    "img = image.img_to_array(img)\n",
    "img.shape"
   ]
  },
  {
   "cell_type": "code",
   "execution_count": 12,
   "id": "0fc5112f",
   "metadata": {
    "execution": {
     "iopub.execute_input": "2022-03-16T19:32:23.712878Z",
     "iopub.status.busy": "2022-03-16T19:32:23.711885Z",
     "iopub.status.idle": "2022-03-16T19:32:23.713877Z",
     "shell.execute_reply": "2022-03-16T19:32:23.714335Z",
     "shell.execute_reply.started": "2022-03-16T19:06:51.211462Z"
    },
    "papermill": {
     "duration": 0.038476,
     "end_time": "2022-03-16T19:32:23.714461",
     "exception": false,
     "start_time": "2022-03-16T19:32:23.675985",
     "status": "completed"
    },
    "tags": []
   },
   "outputs": [],
   "source": [
    "train_img_names.drop('subject', 1, inplace = True)"
   ]
  },
  {
   "cell_type": "code",
   "execution_count": 13,
   "id": "3f5ffacd",
   "metadata": {
    "execution": {
     "iopub.execute_input": "2022-03-16T19:32:23.779189Z",
     "iopub.status.busy": "2022-03-16T19:32:23.778419Z",
     "iopub.status.idle": "2022-03-16T19:32:23.833524Z",
     "shell.execute_reply": "2022-03-16T19:32:23.834024Z",
     "shell.execute_reply.started": "2022-03-16T19:06:51.220667Z"
    },
    "papermill": {
     "duration": 0.089788,
     "end_time": "2022-03-16T19:32:23.834171",
     "exception": false,
     "start_time": "2022-03-16T19:32:23.744383",
     "status": "completed"
    },
    "tags": []
   },
   "outputs": [
    {
     "data": {
      "text/html": [
       "<div>\n",
       "<style scoped>\n",
       "    .dataframe tbody tr th:only-of-type {\n",
       "        vertical-align: middle;\n",
       "    }\n",
       "\n",
       "    .dataframe tbody tr th {\n",
       "        vertical-align: top;\n",
       "    }\n",
       "\n",
       "    .dataframe thead th {\n",
       "        text-align: right;\n",
       "    }\n",
       "</style>\n",
       "<table border=\"1\" class=\"dataframe\">\n",
       "  <thead>\n",
       "    <tr style=\"text-align: right;\">\n",
       "      <th></th>\n",
       "      <th>classname</th>\n",
       "      <th>img</th>\n",
       "    </tr>\n",
       "  </thead>\n",
       "  <tbody>\n",
       "    <tr>\n",
       "      <th>0</th>\n",
       "      <td>0</td>\n",
       "      <td>img_44733.jpg</td>\n",
       "    </tr>\n",
       "    <tr>\n",
       "      <th>1</th>\n",
       "      <td>0</td>\n",
       "      <td>img_72999.jpg</td>\n",
       "    </tr>\n",
       "    <tr>\n",
       "      <th>2</th>\n",
       "      <td>0</td>\n",
       "      <td>img_25094.jpg</td>\n",
       "    </tr>\n",
       "    <tr>\n",
       "      <th>3</th>\n",
       "      <td>0</td>\n",
       "      <td>img_69092.jpg</td>\n",
       "    </tr>\n",
       "    <tr>\n",
       "      <th>4</th>\n",
       "      <td>0</td>\n",
       "      <td>img_92629.jpg</td>\n",
       "    </tr>\n",
       "  </tbody>\n",
       "</table>\n",
       "</div>"
      ],
      "text/plain": [
       "   classname            img\n",
       "0          0  img_44733.jpg\n",
       "1          0  img_72999.jpg\n",
       "2          0  img_25094.jpg\n",
       "3          0  img_69092.jpg\n",
       "4          0  img_92629.jpg"
      ]
     },
     "execution_count": 13,
     "metadata": {},
     "output_type": "execute_result"
    }
   ],
   "source": [
    "dic = {'c0': 0, 'c1': 1, 'c2': 2, 'c3': 3, 'c4': 4, 'c5': 5, 'c6': 6, 'c7': 7, 'c8': 8, 'c9': 9}\n",
    "classes = [dic[str(i)] for i in train_img_names['classname'].to_arrow()]\n",
    "train_img_names['classname'] = classes\n",
    "train_img_names.head()"
   ]
  },
  {
   "cell_type": "code",
   "execution_count": 14,
   "id": "85f2b96e",
   "metadata": {
    "execution": {
     "iopub.execute_input": "2022-03-16T19:32:23.897324Z",
     "iopub.status.busy": "2022-03-16T19:32:23.896534Z",
     "iopub.status.idle": "2022-03-16T19:32:23.907921Z",
     "shell.execute_reply": "2022-03-16T19:32:23.907474Z",
     "shell.execute_reply.started": "2022-03-16T19:06:51.287855Z"
    },
    "papermill": {
     "duration": 0.043999,
     "end_time": "2022-03-16T19:32:23.908057",
     "exception": false,
     "start_time": "2022-03-16T19:32:23.864058",
     "status": "completed"
    },
    "tags": []
   },
   "outputs": [],
   "source": [
    "x = train_img_names['img'].to_pandas()\n",
    "y = train_img_names['classname'].to_pandas()"
   ]
  },
  {
   "cell_type": "code",
   "execution_count": 15,
   "id": "24d3b140",
   "metadata": {
    "execution": {
     "iopub.execute_input": "2022-03-16T19:32:23.971466Z",
     "iopub.status.busy": "2022-03-16T19:32:23.970727Z",
     "iopub.status.idle": "2022-03-16T19:32:23.977032Z",
     "shell.execute_reply": "2022-03-16T19:32:23.976556Z",
     "shell.execute_reply.started": "2022-03-16T19:15:28.354472Z"
    },
    "papermill": {
     "duration": 0.039985,
     "end_time": "2022-03-16T19:32:23.977141",
     "exception": false,
     "start_time": "2022-03-16T19:32:23.937156",
     "status": "completed"
    },
    "tags": []
   },
   "outputs": [],
   "source": [
    "from sklearn.model_selection import train_test_split as tts\n",
    "x_train, x_test, y_train, y_test = tts(x, y, test_size = 0.3, random_state = 42)"
   ]
  },
  {
   "cell_type": "code",
   "execution_count": 16,
   "id": "d5351797",
   "metadata": {
    "execution": {
     "iopub.execute_input": "2022-03-16T19:32:24.040984Z",
     "iopub.status.busy": "2022-03-16T19:32:24.040267Z",
     "iopub.status.idle": "2022-03-16T19:32:24.042973Z",
     "shell.execute_reply": "2022-03-16T19:32:24.043374Z",
     "shell.execute_reply.started": "2022-03-16T19:06:51.314738Z"
    },
    "papermill": {
     "duration": 0.037508,
     "end_time": "2022-03-16T19:32:24.043497",
     "exception": false,
     "start_time": "2022-03-16T19:32:24.005989",
     "status": "completed"
    },
    "tags": []
   },
   "outputs": [
    {
     "data": {
      "text/plain": [
       "19338    img_50751.jpg\n",
       "15692      img_569.jpg\n",
       "20677    img_33604.jpg\n",
       "7220     img_64545.jpg\n",
       "13094    img_74652.jpg\n",
       "Name: img, dtype: object"
      ]
     },
     "execution_count": 16,
     "metadata": {},
     "output_type": "execute_result"
    }
   ],
   "source": [
    "x_train.head()"
   ]
  },
  {
   "cell_type": "code",
   "execution_count": 17,
   "id": "0ae67aea",
   "metadata": {
    "execution": {
     "iopub.execute_input": "2022-03-16T19:32:24.113398Z",
     "iopub.status.busy": "2022-03-16T19:32:24.109341Z",
     "iopub.status.idle": "2022-03-16T19:32:24.127687Z",
     "shell.execute_reply": "2022-03-16T19:32:24.127228Z",
     "shell.execute_reply.started": "2022-03-16T19:15:32.701663Z"
    },
    "papermill": {
     "duration": 0.053471,
     "end_time": "2022-03-16T19:32:24.127800",
     "exception": false,
     "start_time": "2022-03-16T19:32:24.074329",
     "status": "completed"
    },
    "tags": []
   },
   "outputs": [],
   "source": [
    "x_train = cd.DataFrame(x_train.reset_index())\n",
    "x_test = cd.DataFrame(x_test.reset_index())\n",
    "y_train = cd.DataFrame(y_train.reset_index())\n",
    "y_test = cd.DataFrame(y_test.reset_index())"
   ]
  },
  {
   "cell_type": "code",
   "execution_count": 18,
   "id": "beb01fd7",
   "metadata": {
    "execution": {
     "iopub.execute_input": "2022-03-16T19:32:24.195573Z",
     "iopub.status.busy": "2022-03-16T19:32:24.194634Z",
     "iopub.status.idle": "2022-03-16T19:32:24.196676Z",
     "shell.execute_reply": "2022-03-16T19:32:24.197200Z",
     "shell.execute_reply.started": "2022-03-16T19:06:51.348699Z"
    },
    "papermill": {
     "duration": 0.039721,
     "end_time": "2022-03-16T19:32:24.197338",
     "exception": false,
     "start_time": "2022-03-16T19:32:24.157617",
     "status": "completed"
    },
    "tags": []
   },
   "outputs": [],
   "source": [
    "def image_rgb(image_name, cl):\n",
    "    path = '../input/state-farm-distracted-driver-detection/imgs/train/' + 'c' + str(cl) + '/' + image_name\n",
    "    mImage = image.load_img(path,target_size = (64, 64))\n",
    "    mImage = image.img_to_array(mImage)\n",
    "    return mImage"
   ]
  },
  {
   "cell_type": "code",
   "execution_count": 19,
   "id": "2c4b6ceb",
   "metadata": {
    "execution": {
     "iopub.execute_input": "2022-03-16T19:32:24.264157Z",
     "iopub.status.busy": "2022-03-16T19:32:24.263371Z",
     "iopub.status.idle": "2022-03-16T19:38:34.966326Z",
     "shell.execute_reply": "2022-03-16T19:38:34.966814Z",
     "shell.execute_reply.started": "2022-03-16T19:06:51.355458Z"
    },
    "papermill": {
     "duration": 370.736755,
     "end_time": "2022-03-16T19:38:34.967020",
     "exception": false,
     "start_time": "2022-03-16T19:32:24.230265",
     "status": "completed"
    },
    "tags": []
   },
   "outputs": [],
   "source": [
    "xtrain = [image_rgb(x_train['img'][i], y_train['classname'][i]) for i in range(len(x_train))]\n",
    "xtest = [image_rgb(x_test['img'][i], y_test['classname'][i]) for i in range(len(x_test))]"
   ]
  },
  {
   "cell_type": "code",
   "execution_count": 20,
   "id": "9b9d72ef",
   "metadata": {
    "execution": {
     "iopub.execute_input": "2022-03-16T19:38:35.035454Z",
     "iopub.status.busy": "2022-03-16T19:38:35.034419Z",
     "iopub.status.idle": "2022-03-16T19:38:35.405782Z",
     "shell.execute_reply": "2022-03-16T19:38:35.404817Z",
     "shell.execute_reply.started": "2022-03-16T19:14:29.688782Z"
    },
    "papermill": {
     "duration": 0.406364,
     "end_time": "2022-03-16T19:38:35.405924",
     "exception": false,
     "start_time": "2022-03-16T19:38:34.999560",
     "status": "completed"
    },
    "tags": []
   },
   "outputs": [],
   "source": [
    "xtrain = np.array(xtrain)\n",
    "xtest = np.array(xtest)"
   ]
  },
  {
   "cell_type": "code",
   "execution_count": 21,
   "id": "168be2dd",
   "metadata": {
    "execution": {
     "iopub.execute_input": "2022-03-16T19:38:35.473559Z",
     "iopub.status.busy": "2022-03-16T19:38:35.472873Z",
     "iopub.status.idle": "2022-03-16T19:38:35.475767Z",
     "shell.execute_reply": "2022-03-16T19:38:35.476194Z",
     "shell.execute_reply.started": "2022-03-16T19:13:15.581444Z"
    },
    "papermill": {
     "duration": 0.040144,
     "end_time": "2022-03-16T19:38:35.476326",
     "exception": false,
     "start_time": "2022-03-16T19:38:35.436182",
     "status": "completed"
    },
    "tags": []
   },
   "outputs": [
    {
     "data": {
      "text/plain": [
       "(15696, 64, 64, 3)"
      ]
     },
     "execution_count": 21,
     "metadata": {},
     "output_type": "execute_result"
    }
   ],
   "source": [
    "xtrain.shape"
   ]
  },
  {
   "cell_type": "code",
   "execution_count": 22,
   "id": "523f0b33",
   "metadata": {
    "execution": {
     "iopub.execute_input": "2022-03-16T19:38:35.560505Z",
     "iopub.status.busy": "2022-03-16T19:38:35.559719Z",
     "iopub.status.idle": "2022-03-16T19:38:35.945080Z",
     "shell.execute_reply": "2022-03-16T19:38:35.943720Z",
     "shell.execute_reply.started": "2022-03-16T19:13:23.438145Z"
    },
    "papermill": {
     "duration": 0.438011,
     "end_time": "2022-03-16T19:38:35.945257",
     "exception": false,
     "start_time": "2022-03-16T19:38:35.507246",
     "status": "completed"
    },
    "tags": []
   },
   "outputs": [],
   "source": [
    "xtr = xtrain / 255.0\n",
    "xte = xtest / 255.0"
   ]
  },
  {
   "cell_type": "code",
   "execution_count": 23,
   "id": "27721e51",
   "metadata": {
    "execution": {
     "iopub.execute_input": "2022-03-16T19:38:36.055627Z",
     "iopub.status.busy": "2022-03-16T19:38:36.054861Z",
     "iopub.status.idle": "2022-03-16T19:38:36.852511Z",
     "shell.execute_reply": "2022-03-16T19:38:36.852041Z",
     "shell.execute_reply.started": "2022-03-16T19:13:27.013127Z"
    },
    "papermill": {
     "duration": 0.857939,
     "end_time": "2022-03-16T19:38:36.852649",
     "exception": false,
     "start_time": "2022-03-16T19:38:35.994710",
     "status": "completed"
    },
    "tags": []
   },
   "outputs": [
    {
     "name": "stdout",
     "output_type": "stream",
     "text": [
      "Model: \"sequential\"\n",
      "_________________________________________________________________\n",
      "Layer (type)                 Output Shape              Param #   \n",
      "=================================================================\n",
      "conv2d (Conv2D)              (None, 64, 64, 64)        832       \n",
      "_________________________________________________________________\n",
      "max_pooling2d (MaxPooling2D) (None, 32, 32, 64)        0         \n",
      "_________________________________________________________________\n",
      "conv2d_1 (Conv2D)            (None, 32, 32, 64)        16448     \n",
      "_________________________________________________________________\n",
      "max_pooling2d_1 (MaxPooling2 (None, 16, 16, 64)        0         \n",
      "_________________________________________________________________\n",
      "conv2d_2 (Conv2D)            (None, 16, 16, 64)        16448     \n",
      "_________________________________________________________________\n",
      "max_pooling2d_2 (MaxPooling2 (None, 8, 8, 64)          0         \n",
      "_________________________________________________________________\n",
      "conv2d_3 (Conv2D)            (None, 8, 8, 64)          16448     \n",
      "_________________________________________________________________\n",
      "max_pooling2d_3 (MaxPooling2 (None, 4, 4, 64)          0         \n",
      "_________________________________________________________________\n",
      "dropout (Dropout)            (None, 4, 4, 64)          0         \n",
      "_________________________________________________________________\n",
      "flatten (Flatten)            (None, 1024)              0         \n",
      "_________________________________________________________________\n",
      "dense (Dense)                (None, 500)               512500    \n",
      "_________________________________________________________________\n",
      "dropout_1 (Dropout)          (None, 500)               0         \n",
      "_________________________________________________________________\n",
      "dense_1 (Dense)              (None, 10)                5010      \n",
      "=================================================================\n",
      "Total params: 567,686\n",
      "Trainable params: 567,686\n",
      "Non-trainable params: 0\n",
      "_________________________________________________________________\n"
     ]
    },
    {
     "name": "stderr",
     "output_type": "stream",
     "text": [
      "2022-03-16 19:38:36.431599: I tensorflow/stream_executor/cuda/cuda_gpu_executor.cc:937] successful NUMA node read from SysFS had negative value (-1), but there must be at least one NUMA node, so returning NUMA node zero\n",
      "2022-03-16 19:38:36.436976: I tensorflow/stream_executor/cuda/cuda_gpu_executor.cc:937] successful NUMA node read from SysFS had negative value (-1), but there must be at least one NUMA node, so returning NUMA node zero\n",
      "2022-03-16 19:38:36.437620: I tensorflow/stream_executor/cuda/cuda_gpu_executor.cc:937] successful NUMA node read from SysFS had negative value (-1), but there must be at least one NUMA node, so returning NUMA node zero\n",
      "2022-03-16 19:38:36.438638: I tensorflow/core/platform/cpu_feature_guard.cc:142] This TensorFlow binary is optimized with oneAPI Deep Neural Network Library (oneDNN) to use the following CPU instructions in performance-critical operations:  AVX2 AVX512F FMA\n",
      "To enable them in other operations, rebuild TensorFlow with the appropriate compiler flags.\n",
      "2022-03-16 19:38:36.439824: I tensorflow/stream_executor/cuda/cuda_gpu_executor.cc:937] successful NUMA node read from SysFS had negative value (-1), but there must be at least one NUMA node, so returning NUMA node zero\n",
      "2022-03-16 19:38:36.440442: I tensorflow/stream_executor/cuda/cuda_gpu_executor.cc:937] successful NUMA node read from SysFS had negative value (-1), but there must be at least one NUMA node, so returning NUMA node zero\n",
      "2022-03-16 19:38:36.441032: I tensorflow/stream_executor/cuda/cuda_gpu_executor.cc:937] successful NUMA node read from SysFS had negative value (-1), but there must be at least one NUMA node, so returning NUMA node zero\n",
      "2022-03-16 19:38:36.444929: I tensorflow/stream_executor/cuda/cuda_gpu_executor.cc:937] successful NUMA node read from SysFS had negative value (-1), but there must be at least one NUMA node, so returning NUMA node zero\n",
      "2022-03-16 19:38:36.445561: I tensorflow/stream_executor/cuda/cuda_gpu_executor.cc:937] successful NUMA node read from SysFS had negative value (-1), but there must be at least one NUMA node, so returning NUMA node zero\n",
      "2022-03-16 19:38:36.446180: I tensorflow/stream_executor/cuda/cuda_gpu_executor.cc:937] successful NUMA node read from SysFS had negative value (-1), but there must be at least one NUMA node, so returning NUMA node zero\n",
      "2022-03-16 19:38:36.446737: I tensorflow/core/common_runtime/gpu/gpu_device.cc:1510] Created device /job:localhost/replica:0/task:0/device:GPU:0 with 15009 MB memory:  -> device: 0, name: Tesla P100-PCIE-16GB, pci bus id: 0000:00:04.0, compute capability: 6.0\n"
     ]
    }
   ],
   "source": [
    "model = k.Sequential()\n",
    "model.add(tf.keras.layers.Conv2D(filters=64, kernel_size=2,padding='same', activation='relu', input_shape=(64,64,3)))\n",
    "model.add(tf.keras.layers.MaxPooling2D(pool_size=2))\n",
    "model.add(tf.keras.layers.Conv2D(filters=64, kernel_size=2,padding='same', activation='relu'))\n",
    "model.add(tf.keras.layers.MaxPooling2D(pool_size=2))\n",
    "model.add(tf.keras.layers.Conv2D(filters=64, kernel_size=2,padding='same', activation='relu'))\n",
    "model.add(tf.keras.layers.MaxPooling2D(pool_size=2))\n",
    "model.add(tf.keras.layers.Conv2D(filters=64, kernel_size=2,padding='same', activation='relu'))\n",
    "model.add(tf.keras.layers.MaxPooling2D(pool_size=2))\n",
    "model.add(tf.keras.layers.Dropout(0.5))\n",
    "model.add(tf.keras.layers.Flatten())\n",
    "model.add(tf.keras.layers.Dense(500, activation='relu'))\n",
    "model.add(tf.keras.layers.Dropout(0.5))\n",
    "model.add(tf.keras.layers.Dense(10, activation='softmax'))\n",
    "model.summary()"
   ]
  },
  {
   "cell_type": "code",
   "execution_count": 24,
   "id": "e9c5a729",
   "metadata": {
    "execution": {
     "iopub.execute_input": "2022-03-16T19:38:36.919917Z",
     "iopub.status.busy": "2022-03-16T19:38:36.919391Z",
     "iopub.status.idle": "2022-03-16T19:38:36.924429Z",
     "shell.execute_reply": "2022-03-16T19:38:36.923978Z",
     "shell.execute_reply.started": "2022-03-16T19:15:47.195419Z"
    },
    "papermill": {
     "duration": 0.041014,
     "end_time": "2022-03-16T19:38:36.924532",
     "exception": false,
     "start_time": "2022-03-16T19:38:36.883518",
     "status": "completed"
    },
    "tags": []
   },
   "outputs": [],
   "source": [
    "y_test = y_test.to_pandas().to_numpy()\n",
    "y_train = y_train.to_pandas().to_numpy()"
   ]
  },
  {
   "cell_type": "code",
   "execution_count": 25,
   "id": "c0337e17",
   "metadata": {
    "execution": {
     "iopub.execute_input": "2022-03-16T19:38:36.990486Z",
     "iopub.status.busy": "2022-03-16T19:38:36.988924Z",
     "iopub.status.idle": "2022-03-16T19:38:36.991119Z",
     "shell.execute_reply": "2022-03-16T19:38:36.991511Z",
     "shell.execute_reply.started": "2022-03-16T19:15:49.356795Z"
    },
    "papermill": {
     "duration": 0.036924,
     "end_time": "2022-03-16T19:38:36.991655",
     "exception": false,
     "start_time": "2022-03-16T19:38:36.954731",
     "status": "completed"
    },
    "tags": []
   },
   "outputs": [],
   "source": [
    "y_train = y_train[:, 1]\n",
    "y_test = y_test[:, 1]"
   ]
  },
  {
   "cell_type": "code",
   "execution_count": 26,
   "id": "1f067cf5",
   "metadata": {
    "execution": {
     "iopub.execute_input": "2022-03-16T19:38:37.056978Z",
     "iopub.status.busy": "2022-03-16T19:38:37.056286Z",
     "iopub.status.idle": "2022-03-16T19:38:37.060145Z",
     "shell.execute_reply": "2022-03-16T19:38:37.060512Z",
     "shell.execute_reply.started": "2022-03-16T19:15:52.001779Z"
    },
    "papermill": {
     "duration": 0.038862,
     "end_time": "2022-03-16T19:38:37.060658",
     "exception": false,
     "start_time": "2022-03-16T19:38:37.021796",
     "status": "completed"
    },
    "tags": []
   },
   "outputs": [
    {
     "data": {
      "text/plain": [
       "array([2, 5, 6, ..., 0, 3, 6])"
      ]
     },
     "execution_count": 26,
     "metadata": {},
     "output_type": "execute_result"
    }
   ],
   "source": [
    "y_test"
   ]
  },
  {
   "cell_type": "code",
   "execution_count": 27,
   "id": "5637d707",
   "metadata": {
    "execution": {
     "iopub.execute_input": "2022-03-16T19:38:37.126339Z",
     "iopub.status.busy": "2022-03-16T19:38:37.125804Z",
     "iopub.status.idle": "2022-03-16T19:38:37.128115Z",
     "shell.execute_reply": "2022-03-16T19:38:37.128510Z",
     "shell.execute_reply.started": "2022-03-16T19:15:55.540489Z"
    },
    "papermill": {
     "duration": 0.037202,
     "end_time": "2022-03-16T19:38:37.128661",
     "exception": false,
     "start_time": "2022-03-16T19:38:37.091459",
     "status": "completed"
    },
    "tags": []
   },
   "outputs": [],
   "source": [
    "y_train = k.utils.to_categorical(y_train)"
   ]
  },
  {
   "cell_type": "code",
   "execution_count": 28,
   "id": "1200c747",
   "metadata": {
    "execution": {
     "iopub.execute_input": "2022-03-16T19:38:37.194926Z",
     "iopub.status.busy": "2022-03-16T19:38:37.193758Z",
     "iopub.status.idle": "2022-03-16T19:38:37.196026Z",
     "shell.execute_reply": "2022-03-16T19:38:37.196430Z",
     "shell.execute_reply.started": "2022-03-16T19:15:58.004914Z"
    },
    "papermill": {
     "duration": 0.037413,
     "end_time": "2022-03-16T19:38:37.196545",
     "exception": false,
     "start_time": "2022-03-16T19:38:37.159132",
     "status": "completed"
    },
    "tags": []
   },
   "outputs": [],
   "source": [
    "y_test = k.utils.to_categorical(y_test)"
   ]
  },
  {
   "cell_type": "code",
   "execution_count": 29,
   "id": "d56bac9c",
   "metadata": {
    "execution": {
     "iopub.execute_input": "2022-03-16T19:38:37.262817Z",
     "iopub.status.busy": "2022-03-16T19:38:37.260965Z",
     "iopub.status.idle": "2022-03-16T19:38:37.265477Z",
     "shell.execute_reply": "2022-03-16T19:38:37.265944Z",
     "shell.execute_reply.started": "2022-03-16T19:16:00.240263Z"
    },
    "papermill": {
     "duration": 0.038462,
     "end_time": "2022-03-16T19:38:37.266064",
     "exception": false,
     "start_time": "2022-03-16T19:38:37.227602",
     "status": "completed"
    },
    "tags": []
   },
   "outputs": [
    {
     "data": {
      "text/plain": [
       "array([[0., 0., 0., ..., 0., 0., 1.],\n",
       "       [0., 0., 0., ..., 0., 0., 0.],\n",
       "       [0., 0., 0., ..., 0., 0., 0.],\n",
       "       ...,\n",
       "       [0., 0., 0., ..., 0., 1., 0.],\n",
       "       [0., 1., 0., ..., 0., 0., 0.],\n",
       "       [0., 0., 0., ..., 0., 0., 0.]], dtype=float32)"
      ]
     },
     "execution_count": 29,
     "metadata": {},
     "output_type": "execute_result"
    }
   ],
   "source": [
    "y_train"
   ]
  },
  {
   "cell_type": "code",
   "execution_count": 30,
   "id": "125d2ca7",
   "metadata": {
    "execution": {
     "iopub.execute_input": "2022-03-16T19:38:37.332971Z",
     "iopub.status.busy": "2022-03-16T19:38:37.331335Z",
     "iopub.status.idle": "2022-03-16T19:40:09.969175Z",
     "shell.execute_reply": "2022-03-16T19:40:09.968727Z",
     "shell.execute_reply.started": "2022-03-16T19:16:04.161598Z"
    },
    "papermill": {
     "duration": 92.672617,
     "end_time": "2022-03-16T19:40:09.969305",
     "exception": false,
     "start_time": "2022-03-16T19:38:37.296688",
     "status": "completed"
    },
    "tags": []
   },
   "outputs": [
    {
     "name": "stderr",
     "output_type": "stream",
     "text": [
      "2022-03-16 19:38:37.341791: W tensorflow/core/framework/cpu_allocator_impl.cc:80] Allocation of 771489792 exceeds 10% of free system memory.\n",
      "2022-03-16 19:38:38.142618: W tensorflow/core/framework/cpu_allocator_impl.cc:80] Allocation of 771489792 exceeds 10% of free system memory.\n",
      "2022-03-16 19:38:38.712004: I tensorflow/compiler/mlir/mlir_graph_optimization_pass.cc:185] None of the MLIR Optimization Passes are enabled (registered 2)\n"
     ]
    },
    {
     "name": "stdout",
     "output_type": "stream",
     "text": [
      "Epoch 1/20\n"
     ]
    },
    {
     "name": "stderr",
     "output_type": "stream",
     "text": [
      "2022-03-16 19:38:40.072527: I tensorflow/stream_executor/cuda/cuda_dnn.cc:369] Loaded cuDNN version 8005\n"
     ]
    },
    {
     "name": "stdout",
     "output_type": "stream",
     "text": [
      "491/491 [==============================] - 12s 10ms/step - loss: 1.4362 - accuracy: 0.4709 - val_loss: 0.5694 - val_accuracy: 0.8221\n",
      "Epoch 2/20\n",
      "491/491 [==============================] - 4s 8ms/step - loss: 0.5503 - accuracy: 0.8191 - val_loss: 0.2254 - val_accuracy: 0.9438\n",
      "Epoch 3/20\n",
      "491/491 [==============================] - 5s 9ms/step - loss: 0.3070 - accuracy: 0.9030 - val_loss: 0.1160 - val_accuracy: 0.9716\n",
      "Epoch 4/20\n",
      "491/491 [==============================] - 4s 8ms/step - loss: 0.2239 - accuracy: 0.9293 - val_loss: 0.1070 - val_accuracy: 0.9747\n",
      "Epoch 5/20\n",
      "491/491 [==============================] - 4s 8ms/step - loss: 0.1735 - accuracy: 0.9453 - val_loss: 0.0670 - val_accuracy: 0.9828\n",
      "Epoch 6/20\n",
      "491/491 [==============================] - 4s 9ms/step - loss: 0.1505 - accuracy: 0.9537 - val_loss: 0.0616 - val_accuracy: 0.9837\n",
      "Epoch 7/20\n",
      "491/491 [==============================] - 4s 8ms/step - loss: 0.1199 - accuracy: 0.9620 - val_loss: 0.0430 - val_accuracy: 0.9891\n",
      "Epoch 8/20\n",
      "491/491 [==============================] - 4s 8ms/step - loss: 0.1045 - accuracy: 0.9681 - val_loss: 0.0426 - val_accuracy: 0.9890\n",
      "Epoch 9/20\n",
      "491/491 [==============================] - 4s 8ms/step - loss: 0.0911 - accuracy: 0.9700 - val_loss: 0.0464 - val_accuracy: 0.9871\n",
      "Epoch 10/20\n",
      "491/491 [==============================] - 4s 8ms/step - loss: 0.0938 - accuracy: 0.9687 - val_loss: 0.0424 - val_accuracy: 0.9869\n",
      "Epoch 11/20\n",
      "491/491 [==============================] - 5s 9ms/step - loss: 0.0892 - accuracy: 0.9720 - val_loss: 0.0406 - val_accuracy: 0.9878\n",
      "Epoch 12/20\n",
      "491/491 [==============================] - 4s 8ms/step - loss: 0.0818 - accuracy: 0.9743 - val_loss: 0.0316 - val_accuracy: 0.9909\n",
      "Epoch 13/20\n",
      "491/491 [==============================] - 4s 8ms/step - loss: 0.0789 - accuracy: 0.9752 - val_loss: 0.0348 - val_accuracy: 0.9903\n",
      "Epoch 14/20\n",
      "491/491 [==============================] - 4s 8ms/step - loss: 0.0695 - accuracy: 0.9767 - val_loss: 0.0388 - val_accuracy: 0.9900\n",
      "Epoch 15/20\n",
      "491/491 [==============================] - 4s 8ms/step - loss: 0.0687 - accuracy: 0.9783 - val_loss: 0.0367 - val_accuracy: 0.9897\n",
      "Epoch 16/20\n",
      "491/491 [==============================] - 4s 8ms/step - loss: 0.0602 - accuracy: 0.9795 - val_loss: 0.0327 - val_accuracy: 0.9914\n",
      "Epoch 17/20\n",
      "491/491 [==============================] - 4s 9ms/step - loss: 0.0648 - accuracy: 0.9778 - val_loss: 0.0291 - val_accuracy: 0.9921\n",
      "Epoch 18/20\n",
      "491/491 [==============================] - 4s 8ms/step - loss: 0.0559 - accuracy: 0.9818 - val_loss: 0.0294 - val_accuracy: 0.9915\n",
      "Epoch 19/20\n",
      "491/491 [==============================] - 4s 9ms/step - loss: 0.0603 - accuracy: 0.9801 - val_loss: 0.0332 - val_accuracy: 0.9911\n",
      "Epoch 20/20\n",
      "491/491 [==============================] - 5s 10ms/step - loss: 0.0569 - accuracy: 0.9816 - val_loss: 0.0379 - val_accuracy: 0.9902\n"
     ]
    },
    {
     "data": {
      "text/plain": [
       "<keras.callbacks.History at 0x7f6478ede6d0>"
      ]
     },
     "execution_count": 30,
     "metadata": {},
     "output_type": "execute_result"
    }
   ],
   "source": [
    "model.compile(optimizer='adam', loss='categorical_crossentropy', metrics=['accuracy'])\n",
    "model.fit(xtr, y_train,epochs=20, validation_data = (xte, y_test), batch_size=32)"
   ]
  }
 ],
 "metadata": {
  "kernelspec": {
   "display_name": "Python 3",
   "language": "python",
   "name": "python3"
  },
  "language_info": {
   "codemirror_mode": {
    "name": "ipython",
    "version": 3
   },
   "file_extension": ".py",
   "mimetype": "text/x-python",
   "name": "python",
   "nbconvert_exporter": "python",
   "pygments_lexer": "ipython3",
   "version": "3.7.12"
  },
  "papermill": {
   "default_parameters": {},
   "duration": 492.594242,
   "end_time": "2022-03-16T19:40:13.276285",
   "environment_variables": {},
   "exception": null,
   "input_path": "__notebook__.ipynb",
   "output_path": "__notebook__.ipynb",
   "parameters": {},
   "start_time": "2022-03-16T19:32:00.682043",
   "version": "2.3.3"
  }
 },
 "nbformat": 4,
 "nbformat_minor": 5
}
